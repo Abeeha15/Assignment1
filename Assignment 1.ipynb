{
 "cells": [
  {
   "cell_type": "markdown",
   "metadata": {},
   "source": [
    "<h1>Assignment 1</h1>"
   ]
  },
  {
   "cell_type": "markdown",
   "metadata": {},
   "source": [
    "<h1>Task1:</h1><h2>Convert Temperatures to and from Celsius, Fahrenheit</h2>"
   ]
  },
  {
   "cell_type": "code",
   "execution_count": 17,
   "metadata": {},
   "outputs": [
    {
     "name": "stdout",
     "output_type": "stream",
     "text": [
      "Enter degree Celsius: 6\n",
      "6.0 degree Celsius is equal to 42.8 degree Fahrenheit\n",
      "Enter tempreture in fahrenheit: 6\n",
      "6.00 degree Fahrenheit is equal to -14.44 degree Celsius\n"
     ]
    }
   ],
   "source": [
    "celsius = float(input('Enter degree Celsius: ')) \n",
    "# calculate fahrenheit\n",
    "fahrenheit = (celsius * 1.8) + 32\n",
    "print('%0.1f degree Celsius is equal to %0.1f degree Fahrenheit' %(celsius,fahrenheit))\n",
    "fahrenheit = float(input('Enter tempreture in fahrenheit: '))\n",
    "# calculate celsius\n",
    "celsius = (fahrenheit - 32) * 5 / 9\n",
    "print(\"%.2f degree Fahrenheit is equal to %.2f degree Celsius\"%(fahrenheit, celsius))"
   ]
  },
  {
   "cell_type": "markdown",
   "metadata": {},
   "source": [
    "<h1>Task2:</h1><h2>Write a Python program to check if number is divisible by 7 and multiple of 5, between 1500 and \n",
    "2700 (both included).</h2>"
   ]
  },
  {
   "cell_type": "code",
   "execution_count": 28,
   "metadata": {},
   "outputs": [
    {
     "name": "stdout",
     "output_type": "stream",
     "text": [
      "value is in range from 1500 t0 2700\n",
      "Number is not divisible by 7 and 5\n",
      "False\n"
     ]
    }
   ],
   "source": [
    "def checknum(num):\n",
    "    flagNum = False\n",
    "    if(num>=1500) & (num<=2700):\n",
    "        print('value is in range from 1500 t0 2700')\n",
    "        if(num%7==0) & (num%5==0):\n",
    "            print('value is divisible by 7 and 5')\n",
    "            flagNum = True\n",
    "        else:\n",
    "            print('Number is not divisible by 7 and 5')\n",
    "    return flagNum\n",
    "print(checknum(2300))"
   ]
  },
  {
   "cell_type": "markdown",
   "metadata": {},
   "source": [
    "<h1>Task 3+4:</h1><h2>Use the list in the cell below and write a function to return the maximum and minimum value in \n",
    "the list. The function will take the list an argument and return two values.</h2>"
   ]
  },
  {
   "cell_type": "code",
   "execution_count": 44,
   "metadata": {},
   "outputs": [
    {
     "name": "stdout",
     "output_type": "stream",
     "text": [
      "Largest element is: 45\n",
      "Smallest element is: 2\n",
      "Second Largest element is: 41\n",
      "Second Smallest element is: 4\n"
     ]
    }
   ],
   "source": [
    "def checknum(list): \n",
    "    max = list[0] \n",
    "    min = list[0] \n",
    "    max2 = None\n",
    "    min2 = None\n",
    "    for num in list[1:]:     \n",
    "        if num > max: \n",
    "            max2 = max\n",
    "            max = num\n",
    "        elif max2 == None or max2 < num: \n",
    "            max2 = num \n",
    "        if num < min: \n",
    "            min = min\n",
    "            min = num \n",
    "        elif min2 == None or min2 > num: \n",
    "            min2 = num\n",
    "              \n",
    "    print(\"Largest element is:\", max) \n",
    "    print(\"Smallest element is:\", min) \n",
    "    print(\"Second Largest element is:\", max2) \n",
    "    print(\"Second Smallest element is:\", min2) \n",
    "  \n",
    "  \n",
    "list = [12, 45, 2, 41, 31, 10, 8, 6, 4]\n",
    "checknum(list)"
   ]
  },
  {
   "cell_type": "markdown",
   "metadata": {},
   "source": [
    "<h1>Task 5</h1><h2>Write a program to find the following statistics from a list. Note: Don’t use any built-in method \n",
    "for this question.\n",
    "• Mean\n",
    "• Median\n",
    "• Mode\n",
    "• Variance</h2>"
   ]
  },
  {
   "cell_type": "code",
   "execution_count": 68,
   "metadata": {},
   "outputs": [
    {
     "name": "stdout",
     "output_type": "stream",
     "text": [
      "Mean =  4.5181818181818185\n",
      "Mean =  5\n",
      "median =  5\n",
      "mode =  6\n",
      "variance =  6.383305785123966\n",
      "variance =  6\n"
     ]
    }
   ],
   "source": [
    "list = [1,9,6,4,5.6,6,3,7.1,3,0,5]\n",
    "mean = sum(list)/len(list)\n",
    "print('Mean = ',mean)\n",
    "mean_roundoff = round(mean)\n",
    "print('Mean = ',mean_roundoff)\n",
    "median = sorted(list)[len(list)//2]\n",
    "print('median = ',median)\n",
    "mode = max(list,key = list.count)\n",
    "print('mode = ',mode)\n",
    "variance = sum((x-mean) ** 2 for x in list) / len(list)\n",
    "print('variance = ',variance)\n",
    "variance_roundoff = round(variance)\n",
    "print('variance = ',variance_roundoff)"
   ]
  },
  {
   "cell_type": "markdown",
   "metadata": {},
   "source": [
    "<h1>Task 6:</h1><h2>You have three strings each containing different text, but all three have some common words in \n",
    "them. Your task is to find the frequency of words in each string and with the use of dictionary \n",
    "and list.\n",
    "The word will act as a 'key' in a dictionary where the value is a list containing the frequency of \n",
    "that word in all three strings.\n",
    "For example Dictionary['the'] -> List[] -> frequency count. the index '0' will contain the count of \n",
    "str1 and '1' will contain the count of str2 and so on. Following are the sample strings:\n",
    "• str1 = \"a quick brown fox jumps over the lazy dog\"\n",
    "• str2 = \"this course can be complex but not complicated if learnt properly\"\n",
    "• str3 = \"the boeing plane max 8 was grounded all around the world for technical \n",
    "problems\"</h2>"
   ]
  },
  {
   "cell_type": "code",
   "execution_count": 101,
   "metadata": {},
   "outputs": [],
   "source": [
    "str1 = ['a', 'quick', 'brown', 'fox', 'jumps', 'over', 'the', 'lazy', 'dog']\n",
    "str2 = [ 'this', 'course', 'can', 'be', 'complex', 'but', 'not', 'complicated', 'if', 'learnt', 'properly']\n",
    "str3 = ['the', 'boeing', 'plane', 'max', '8', 'was', 'grounded', 'all', 'around', 'the', 'world', 'for', 'technical', \n",
    " 'problems']\n",
    "\n"
   ]
  },
  {
   "cell_type": "markdown",
   "metadata": {},
   "source": [
    "<h1>Task 7:</h1><h2>Write a program which will return ticket price for the following scenario</h2>"
   ]
  },
  {
   "cell_type": "code",
   "execution_count": 102,
   "metadata": {},
   "outputs": [
    {
     "name": "stdout",
     "output_type": "stream",
     "text": [
      "50\n"
     ]
    }
   ],
   "source": [
    "def returnticketprice(age):\n",
    "    ticketprice = 0\n",
    "    \n",
    "    \n",
    "    if(age < 4):\n",
    "        ticketprice= 10 \n",
    "    elif (age < 8):\n",
    "        ticketprice=15\n",
    "    elif (age < 12):\n",
    "        ticketprice=20\n",
    "    else:\n",
    "        ticketprice=50\n",
    "    return ticketprice\n",
    "\n",
    "print(returnticketprice(20))"
   ]
  },
  {
   "cell_type": "code",
   "execution_count": null,
   "metadata": {},
   "outputs": [],
   "source": []
  },
  {
   "cell_type": "code",
   "execution_count": null,
   "metadata": {},
   "outputs": [],
   "source": []
  }
 ],
 "metadata": {
  "kernelspec": {
   "display_name": "Python 3",
   "language": "python",
   "name": "python3"
  },
  "language_info": {
   "codemirror_mode": {
    "name": "ipython",
    "version": 3
   },
   "file_extension": ".py",
   "mimetype": "text/x-python",
   "name": "python",
   "nbconvert_exporter": "python",
   "pygments_lexer": "ipython3",
   "version": "3.8.5"
  }
 },
 "nbformat": 4,
 "nbformat_minor": 4
}
